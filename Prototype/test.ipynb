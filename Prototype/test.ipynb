{
 "cells": [
  {
   "cell_type": "code",
   "execution_count": 61,
   "metadata": {},
   "outputs": [],
   "source": [
    "class StateMaker:\n",
    "    def __init__(self, state, n, m):\n",
    "        # Parsing the input state string\n",
    "        positions = list(map(int, state.split(',')))\n",
    "        self.agents = [positions[i:i+2] for i in range(0, 2*n, 2)]\n",
    "        self.defenses = [positions[i:i+2] for i in range(2*n, 2*n+2*m, 2)]\n",
    "        self.n = n\n",
    "        self.m = m\n",
    "\n",
    "    def get_possible_moves(self, agent):\n",
    "        # Define possible moves\n",
    "        directions = [(-1, 0), (1, 0), (0, -1), (0, 1)]  # up, down, left, right\n",
    "        possible_moves = []\n",
    "        for dx, dy in directions:\n",
    "            new_x, new_y = agent[0] + dx, agent[1] + dy\n",
    "            # Check if move is within the grid\n",
    "            if 0 <= new_x < 5 and 0 <= new_y < 5:\n",
    "                possible_moves.append((new_x, new_y))\n",
    "        return possible_moves\n",
    "\n",
    "    def generate_next_states(self):\n",
    "        next_states = []\n",
    "        all_moves = [self.get_possible_moves(agent) for agent in self.agents]\n",
    "\n",
    "        def recurse(index, current_state):\n",
    "            if index == len(all_moves):\n",
    "                # Check for any attacks on defenses\n",
    "                defenses_pos = [d[:] for d in self.defenses]  # Create a copy of the defenses positions\n",
    "                for i, agent_pos in enumerate(current_state):\n",
    "                    for j, defense_pos in enumerate(defenses_pos):\n",
    "                        if agent_pos == tuple(defense_pos):\n",
    "                            defenses_pos[j] = [-1, -1]\n",
    "\n",
    "                state_str = ', '.join([f\"{pos[0]}, {pos[1]}\" for pos in (current_state + defenses_pos)])\n",
    "                next_states.append(state_str)\n",
    "                return\n",
    "\n",
    "            for move in all_moves[index]:\n",
    "                if move not in current_state:  # Ensure no overlap among agents\n",
    "                    recurse(index + 1, current_state + [move])\n",
    "\n",
    "        recurse(0, [])\n",
    "        return next_states\n"
   ]
  },
  {
   "cell_type": "code",
   "execution_count": 62,
   "metadata": {},
   "outputs": [
    {
     "name": "stdout",
     "output_type": "stream",
     "text": [
      "0, 1, 3, 4, 1, 0, 3, 3\n",
      "0, 1, 4, 3, 1, 0, 3, 3\n",
      "2, 1, 3, 4, 1, 0, 3, 3\n",
      "2, 1, 4, 3, 1, 0, 3, 3\n",
      "1, 0, 3, 4, -1, -1, 3, 3\n",
      "1, 0, 4, 3, -1, -1, 3, 3\n",
      "1, 2, 3, 4, 1, 0, 3, 3\n",
      "1, 2, 4, 3, 1, 0, 3, 3\n"
     ]
    }
   ],
   "source": [
    "initial_state = \"1, 1, 4, 4, 1, 0, 3, 3\"\n",
    "state_maker = StateMaker(initial_state, 2, 2)\n",
    "next_states = state_maker.generate_next_states()\n",
    "for state in next_states:\n",
    "    print(state)\n"
   ]
  },
  {
   "cell_type": "code",
   "execution_count": 63,
   "metadata": {},
   "outputs": [
    {
     "data": {
      "text/plain": [
       "['0, 1, 3, 4, 1, 0, 3, 3',\n",
       " '0, 1, 4, 3, 1, 0, 3, 3',\n",
       " '2, 1, 3, 4, 1, 0, 3, 3',\n",
       " '2, 1, 4, 3, 1, 0, 3, 3',\n",
       " '1, 0, 3, 4, -1, -1, 3, 3',\n",
       " '1, 0, 4, 3, -1, -1, 3, 3',\n",
       " '1, 2, 3, 4, 1, 0, 3, 3',\n",
       " '1, 2, 4, 3, 1, 0, 3, 3']"
      ]
     },
     "execution_count": 63,
     "metadata": {},
     "output_type": "execute_result"
    }
   ],
   "source": [
    "next_states"
   ]
  },
  {
   "cell_type": "code",
   "execution_count": null,
   "metadata": {},
   "outputs": [],
   "source": []
  }
 ],
 "metadata": {
  "kernelspec": {
   "display_name": "Python 3",
   "language": "python",
   "name": "python3"
  },
  "language_info": {
   "codemirror_mode": {
    "name": "ipython",
    "version": 3
   },
   "file_extension": ".py",
   "mimetype": "text/x-python",
   "name": "python",
   "nbconvert_exporter": "python",
   "pygments_lexer": "ipython3",
   "version": "3.11.6"
  }
 },
 "nbformat": 4,
 "nbformat_minor": 2
}
