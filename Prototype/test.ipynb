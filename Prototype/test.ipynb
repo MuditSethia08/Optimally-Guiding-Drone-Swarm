{
 "cells": [
  {
   "cell_type": "code",
   "execution_count": 1,
   "metadata": {},
   "outputs": [],
   "source": [
    "# StateMaker.py\n",
    "\n",
    "class StateMaker:\n",
    "    def __init__(self, state, n, m):\n",
    "        # Parsing the input state string\n",
    "        positions = list(map(int, state.split(',')))\n",
    "        self.agents = [positions[i:i+2] for i in range(0, 2*n, 2)]\n",
    "        self.defenses = [positions[i:i+2] for i in range(2*n, 2*n+2*m, 2)]\n",
    "        self.n = n\n",
    "        self.m = m\n",
    "        self.gridsize = 5\n",
    "\n",
    "    def get_possible_moves(self, agent):\n",
    "        # Define possible moves\n",
    "        directions = [(-1, 0), (1, 0), (0, -1), (0, 1)]  # up, down, left, right\n",
    "        possible_moves = []\n",
    "        for dx, dy in directions:\n",
    "            new_x, new_y = agent[0] + dx, agent[1] + dy\n",
    "            # Check if move is within the grid\n",
    "            if 0 <= new_x < self.gridsize and 0 <= new_y < self.gridsize:\n",
    "                possible_moves.append((new_x, new_y))\n",
    "        return possible_moves\n",
    "\n",
    "    def manhattan_distance(self, a, b):\n",
    "        return abs(a[0] - b[0]) + abs(a[1] - b[1])\n",
    "    \n",
    "    def generate_next_states(self):\n",
    "        next_states = []\n",
    "        all_moves = [self.get_possible_moves(agent) for agent in self.agents]\n",
    "\n",
    "        def recurse(index, current_state):\n",
    "            if index == len(all_moves):\n",
    "                # Check for any attacks on defenses\n",
    "                defenses_pos = [d[:] for d in self.defenses]  # Create a copy of the defenses positions\n",
    "                for i, agent_pos in enumerate(current_state):\n",
    "                    for j, defense_pos in enumerate(defenses_pos):\n",
    "                        if agent_pos == tuple(defense_pos):\n",
    "                            defenses_pos[j] = [-1, -1]\n",
    "\n",
    "                state_str = ', '.join([f\"{pos[0]}, {pos[1]}\" for pos in (current_state + defenses_pos)])\n",
    "                next_states.append(state_str)\n",
    "                return\n",
    "\n",
    "            for move in all_moves[index]:\n",
    "                if move not in current_state:  # Ensure no overlap among agents\n",
    "                    recurse(index + 1, current_state + [move])\n",
    "\n",
    "        recurse(0, [])\n",
    "        return next_states\n"
   ]
  },
  {
   "cell_type": "code",
   "execution_count": 2,
   "metadata": {},
   "outputs": [
    {
     "name": "stdout",
     "output_type": "stream",
     "text": [
      "0, 1, 3, 4, 1, 0, 3, 3\n",
      "0, 1, 4, 3, 1, 0, 3, 3\n",
      "2, 1, 3, 4, 1, 0, 3, 3\n",
      "2, 1, 4, 3, 1, 0, 3, 3\n",
      "1, 0, 3, 4, -1, -1, 3, 3\n",
      "1, 0, 4, 3, -1, -1, 3, 3\n",
      "1, 2, 3, 4, 1, 0, 3, 3\n",
      "1, 2, 4, 3, 1, 0, 3, 3\n"
     ]
    }
   ],
   "source": [
    "initial_state = \"1, 1, 4, 4, 1, 0, 3, 3\"\n",
    "state_maker = StateMaker(initial_state, 2, 2)\n",
    "next_states = state_maker.generate_next_states()\n",
    "for state in next_states:\n",
    "    print(state)\n"
   ]
  },
  {
   "cell_type": "code",
   "execution_count": 3,
   "metadata": {},
   "outputs": [],
   "source": [
    "class StateMaker:\n",
    "    def __init__(self, state, n, m, p):\n",
    "        # Initialize StateMaker with the current state, number of agents (n), number of defenses (m),\n",
    "        # and the probability of a defense hitting an agent (p).\n",
    "        # The state is parsed to extract positions of agents and defenses.\n",
    "        positions = list(map(int, state.split(',')))\n",
    "        self.agents = [positions[i:i+2] for i in range(0, 2*n, 2)]  # Agent positions\n",
    "        self.defenses = [positions[i:i+2] for i in range(2*n, 2*n+2*m, 2)]  # Defense positions\n",
    "        self.n = n  # Number of agents\n",
    "        self.m = m  # Number of defenses\n",
    "        self.p = p  # Probability of being hit\n",
    "\n",
    "    def get_possible_moves(self, agent):\n",
    "        # Determine possible moves for an agent, including staying in place.\n",
    "        # Moves are restricted within the 5x5 grid boundaries.\n",
    "        directions = [(-1, 0), (1, 0), (0, -1), (0, 1), (0, 0)]  # Possible directions, including staying still\n",
    "        possible_moves = []\n",
    "        for dx, dy in directions:\n",
    "            new_x, new_y = agent[0] + dx, agent[1] + dy\n",
    "            # Include the move if it's within the grid or it's the special \"hit\" case (-1, -1).\n",
    "            if (0 <= new_x < 5 and 0 <= new_y < 5) or (new_x, new_y) == (-1, -1):\n",
    "                possible_moves.append((new_x, new_y))\n",
    "        return possible_moves\n",
    "\n",
    "    def manhattan_distance(self, point1, point2):\n",
    "        # Calculate the Manhattan distance between two points.\n",
    "        return abs(point1[0] - point2[0]) + abs(point1[1] - point2[1])\n",
    "\n",
    "    def calculate_hit_probability(self, agent_pos, defense_positions):\n",
    "        # Determine the probability of an agent being hit by a defense.\n",
    "        # If any defense is within a Manhattan distance of 2 or less, the agent has a probability 'p' of being hit.\n",
    "        for defense_pos in defense_positions:\n",
    "            if self.manhattan_distance(agent_pos, defense_pos) <= 2:\n",
    "                return self.p  # Agent is at risk of being hit\n",
    "        return 0  # Agent is not at risk, so the probability of surviving is 1\n",
    "\n",
    "    def generate_next_states(self):\n",
    "        # Generate all possible next states considering the movements of agents and the defense's ability to hit.\n",
    "        next_states = []\n",
    "        all_moves = [self.get_possible_moves(agent) for agent in self.agents]  # Possible moves for all agents\n",
    "\n",
    "        def recurse(index, current_state, probability):\n",
    "            # Recursive function to explore all combinations of agent moves and calculate the state probabilities.\n",
    "            if index == len(all_moves):\n",
    "                # Once all agent moves are processed, calculate the final state string with the cumulative probability.\n",
    "                defenses_pos = [d[:] for d in self.defenses]  # Copy of defense positions to check for \"attacks\"\n",
    "                \n",
    "                # Calculate cumulative probability considering the defense's ability to hit agents\n",
    "                cumulative_probability = probability\n",
    "                for agent_pos in current_state:\n",
    "                    cumulative_probability *= self.calculate_hit_probability(agent_pos, self.defenses)\n",
    "                    # Mark defense as \"attacked\" if agent's final position matches a defense's position\n",
    "                    for defense_pos in defenses_pos:\n",
    "                        if agent_pos == tuple(defense_pos):\n",
    "                            defenses_pos[defenses_pos.index(defense_pos)] = [-1, -1]\n",
    "\n",
    "                # Construct the state string including the probability and positions of agents/defenses\n",
    "                state_str = f\"{cumulative_probability}: \" + ', '.join([f\"{pos[0]}, {pos[1]}\" for pos in (current_state + defenses_pos)])\n",
    "                next_states.append(state_str)\n",
    "                return\n",
    "\n",
    "            for move in all_moves[index]:\n",
    "                # Iterate through possible moves, ensuring no agent overlap, but allow \"being hit\" state\n",
    "                if move not in current_state or move == (-1, -1):\n",
    "                    recurse(index + 1, current_state + [move], probability * (1 - self.p if move != (-1, -1) else 1))\n",
    "\n",
    "        recurse(0, [], 1)  # Start the recursive exploration with an initial probability of 1\n",
    "        return next_states  # Return the list of all possible next states with their associated probabilities\n"
   ]
  },
  {
   "cell_type": "code",
   "execution_count": 4,
   "metadata": {},
   "outputs": [
    {
     "name": "stdout",
     "output_type": "stream",
     "text": [
      "0.025600000000000008: 0, 1, 3, 4, 1, 0, 3, 3\n",
      "0.025600000000000008: 0, 1, 4, 3, 1, 0, 3, 3\n",
      "0.025600000000000008: 0, 1, 4, 4, 1, 0, 3, 3\n",
      "0.025600000000000008: 2, 1, 3, 4, 1, 0, 3, 3\n",
      "0.025600000000000008: 2, 1, 4, 3, 1, 0, 3, 3\n",
      "0.025600000000000008: 2, 1, 4, 4, 1, 0, 3, 3\n",
      "0.025600000000000008: 1, 0, 3, 4, -1, -1, 3, 3\n",
      "0.025600000000000008: 1, 0, 4, 3, -1, -1, 3, 3\n",
      "0.025600000000000008: 1, 0, 4, 4, -1, -1, 3, 3\n",
      "0.025600000000000008: 1, 2, 3, 4, 1, 0, 3, 3\n",
      "0.025600000000000008: 1, 2, 4, 3, 1, 0, 3, 3\n",
      "0.025600000000000008: 1, 2, 4, 4, 1, 0, 3, 3\n",
      "0.025600000000000008: 1, 1, 3, 4, 1, 0, 3, 3\n",
      "0.025600000000000008: 1, 1, 4, 3, 1, 0, 3, 3\n",
      "0.025600000000000008: 1, 1, 4, 4, 1, 0, 3, 3\n"
     ]
    }
   ],
   "source": [
    "initial_state = \"1, 1, 4, 4, 1, 0, 3, 3\"\n",
    "state_maker = StateMaker(initial_state, 2, 2, 0.2)\n",
    "next_states = state_maker.generate_next_states()\n",
    "for state in next_states:\n",
    "    print(state)\n"
   ]
  },
  {
   "cell_type": "code",
   "execution_count": 5,
   "metadata": {},
   "outputs": [
    {
     "data": {
      "text/plain": [
       "15"
      ]
     },
     "execution_count": 5,
     "metadata": {},
     "output_type": "execute_result"
    }
   ],
   "source": [
    "len(next_states)"
   ]
  },
  {
   "cell_type": "code",
   "execution_count": null,
   "metadata": {},
   "outputs": [],
   "source": []
  }
 ],
 "metadata": {
  "kernelspec": {
   "display_name": "Python 3",
   "language": "python",
   "name": "python3"
  },
  "language_info": {
   "codemirror_mode": {
    "name": "ipython",
    "version": 3
   },
   "file_extension": ".py",
   "mimetype": "text/x-python",
   "name": "python",
   "nbconvert_exporter": "python",
   "pygments_lexer": "ipython3",
   "version": "3.11.6"
  }
 },
 "nbformat": 4,
 "nbformat_minor": 2
}
