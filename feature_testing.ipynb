{
 "cells": [
  {
   "cell_type": "code",
   "execution_count": 4,
   "metadata": {},
   "outputs": [],
   "source": [
    "# defining the environment\n",
    "# we have our battleground as a nxm grid as a 2D array in numpy\n",
    "# our drone can move in 4 directions\n",
    "\n",
    "import numpy as np\n",
    "\n",
    "class Environment:\n",
    "    def __init__(self, n, m):\n",
    "        self.n = n\n",
    "        self.m = m\n",
    "        self.grid = np.zeros((n, m))\n",
    "        self.drones = []\n",
    "        self.defences = []\n",
    "\n",
    "class Drone:\n",
    "    def __init__(self, x, y, type):\n",
    "        self.x = x\n",
    "        self.y = y\n",
    "        self.type = type\n",
    "\n",
    "    def move(self, dx, dy):\n",
    "        self.x += dx\n",
    "        self.y += dy\n",
    "\n",
    "    def get_position(self):\n",
    "        return (self.x, self.y)\n",
    "\n",
    "class Defence:\n",
    "    def __init__(self, x, y, type):\n",
    "        self.x = x\n",
    "        self.y = y\n",
    "        self.type = type\n",
    "\n",
    "    def area_spanned(self):\n",
    "        return "
   ]
  },
  {
   "cell_type": "code",
   "execution_count": null,
   "metadata": {},
   "outputs": [],
   "source": [
    "defence_info = {\n",
    "            \"rocket launcher\": {\"range\": 3, \"damage\": 10, \"area_spanned\": 1, \"reload_time\": 3, \"accuracy\": 0.8, \"health\": 20},\n",
    "            \"laser\": {\"range\": 2, \"damage\": 5, \"area_spanned\": 1, \"reload_time\": 1, \"accuracy\": 0.9, \"health\": 10},\n",
    "            \"machine gun\": {\"range\": 1, \"damage\": 0, \"area_spanned\": 1, \"reload_time\": 1, \"accuracy\": 1, \"health\": 30}\n",
    "            }\n",
    "\n",
    "drone_info = {\n",
    "            \"scout\": {\"speed\": 2, \"health\": 10, \"area_spanned\": 1, \"damage\": 5, \"range\": 1, \"reload_time\": 1, \"accuracy\": 0.7},\n",
    "            \"fighter\": {\"speed\": 1, \"health\": 20, \"area_spanned\": 1, \"damage\": 10, \"range\": 1, \"reload_time\": 2, \"accuracy\": 0.8},\n",
    "            \"bomber\": {\"speed\": 1, \"health\": 30, \"area_spanned\": 1, \"damage\": 15, \"range\": 1, \"reload_time\": 3, \"accuracy\": 0.9}\n",
    "            }"
   ]
  }
 ],
 "metadata": {
  "kernelspec": {
   "display_name": "Python 3",
   "language": "python",
   "name": "python3"
  },
  "language_info": {
   "codemirror_mode": {
    "name": "ipython",
    "version": 3
   },
   "file_extension": ".py",
   "mimetype": "text/x-python",
   "name": "python",
   "nbconvert_exporter": "python",
   "pygments_lexer": "ipython3",
   "version": "3.11.6"
  }
 },
 "nbformat": 4,
 "nbformat_minor": 2
}
