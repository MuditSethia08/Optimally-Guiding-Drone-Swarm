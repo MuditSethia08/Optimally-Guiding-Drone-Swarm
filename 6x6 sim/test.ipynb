{
 "cells": [
  {
   "cell_type": "code",
   "execution_count": 1,
   "metadata": {},
   "outputs": [],
   "source": [
    "import numpy as np"
   ]
  },
  {
   "cell_type": "code",
   "execution_count": 5,
   "metadata": {},
   "outputs": [
    {
     "name": "stdout",
     "output_type": "stream",
     "text": [
      "(2, 2)\n",
      "(3, 1)\n"
     ]
    }
   ],
   "source": [
    "action=[1,0]\n",
    "drones=[]\n",
    "movement_delta = {\n",
    "    0: (0,-1),\n",
    "    1: (-1,0),\n",
    "    2: (0,1),\n",
    "    3: (1,0)\n",
    "}\n",
    "for i,a in enumerate(action):\n",
    "    #print(i,a)\n",
    "    print(tuple(t1 + t2 for t1, t2 in zip((3,2), movement_delta[a])))"
   ]
  }
 ],
 "metadata": {
  "kernelspec": {
   "display_name": "Python 3",
   "language": "python",
   "name": "python3"
  },
  "language_info": {
   "codemirror_mode": {
    "name": "ipython",
    "version": 3
   },
   "file_extension": ".py",
   "mimetype": "text/x-python",
   "name": "python",
   "nbconvert_exporter": "python",
   "pygments_lexer": "ipython3",
   "version": "3.11.9"
  }
 },
 "nbformat": 4,
 "nbformat_minor": 2
}
