{
 "cells": [
  {
   "cell_type": "code",
   "execution_count": 1,
   "metadata": {},
   "outputs": [],
   "source": [
    "import numpy as np"
   ]
  },
  {
   "cell_type": "code",
   "execution_count": 5,
   "metadata": {},
   "outputs": [
    {
     "name": "stdout",
     "output_type": "stream",
     "text": [
      "(2, 2)\n",
      "(3, 1)\n"
     ]
    }
   ],
   "source": [
    "action=[1,0]\n",
    "drones=[]\n",
    "movement_delta = {\n",
    "    0: (0,-1),\n",
    "    1: (-1,0),\n",
    "    2: (0,1),\n",
    "    3: (1,0)\n",
    "}\n",
    "for i,a in enumerate(action):\n",
    "    #print(i,a)\n",
    "    print(tuple(t1 + t2 for t1, t2 in zip((3,2), movement_delta[a])))"
   ]
  },
  {
   "cell_type": "code",
   "execution_count": 1,
   "metadata": {},
   "outputs": [
    {
     "name": "stdout",
     "output_type": "stream",
     "text": [
      "(0, 0, 1)\n",
      "(0, 1, 0)\n",
      "(1, 1, 1)\n",
      "(1, 0, 0)\n"
     ]
    }
   ],
   "source": [
    "aa_statuses=[(0,0,1),(0,1,0),(1,1,1),(1,0,0)]\n",
    "for aa_status in aa_statuses:\n",
    "    print(aa_status)"
   ]
  },
  {
   "cell_type": "code",
   "execution_count": 73,
   "metadata": {},
   "outputs": [
    {
     "name": "stdout",
     "output_type": "stream",
     "text": [
      "769\n",
      "\n"
     ]
    }
   ],
   "source": [
    "import itertools\n",
    "num_aa=2\n",
    "num_d = 2\n",
    "import numpy as np\n",
    "def generate_tuples(n):\n",
    "        if n == 1:\n",
    "            return [(0,), (1,)]\n",
    "        else:\n",
    "            tuples = generate_tuples(n - 1)\n",
    "            result = []\n",
    "            for tup in tuples:\n",
    "                result.append(tup + (0,))\n",
    "                result.append(tup + (1,))\n",
    "            return result\n",
    "\n",
    "def filter_non_zero_sum_tuples(tuples):\n",
    "    return [tup for tup in tuples if sum(tup) != 0]\n",
    "\n",
    "def generate_tuples_with_non_zero_sum(n):\n",
    "    tuples = generate_tuples(n)\n",
    "    return filter_non_zero_sum_tuples(tuples)\n",
    "\n",
    "aa_statuses=generate_tuples_with_non_zero_sum(num_aa)\n",
    "def get_state_code(drone_pos, aa_status):\n",
    "    # Winning\n",
    "    if np.sum(aa_status)==0:\n",
    "        return 0\n",
    "    state_code = 0\n",
    "    for i in range(num_aa):\n",
    "        #print(aa_status[i])\n",
    "        state_code += aa_status[i]*10**i\n",
    "    for j in range(num_d):\n",
    "        for k in range(0,2):\n",
    "            state_code = state_code + np.dot(drone_pos[j*2+k],(10**(i+j+k)))\n",
    "    return state_code\n",
    "\n",
    "def generate_particle_states(n, m):\n",
    "        coordinates = list(itertools.product(range(m), repeat=2))\n",
    "        return list(itertools.product(coordinates, repeat=n))\n",
    "\n",
    "\n",
    "poses = generate_particle_states(2, 4)\n",
    "states = [0]\n",
    "for drone_pos in poses:\n",
    "    for aa_status in aa_statuses:\n",
    "        pos= [item for sublist in drone_pos for item in sublist]\n",
    "        states.append(get_state_code(pos ,aa_status))\n",
    "print(len(states))"
   ]
  }
 ],
 "metadata": {
  "kernelspec": {
   "display_name": "Python 3",
   "language": "python",
   "name": "python3"
  },
  "language_info": {
   "codemirror_mode": {
    "name": "ipython",
    "version": 3
   },
   "file_extension": ".py",
   "mimetype": "text/x-python",
   "name": "python",
   "nbconvert_exporter": "python",
   "pygments_lexer": "ipython3",
   "version": "3.11.9"
  }
 },
 "nbformat": 4,
 "nbformat_minor": 2
}
